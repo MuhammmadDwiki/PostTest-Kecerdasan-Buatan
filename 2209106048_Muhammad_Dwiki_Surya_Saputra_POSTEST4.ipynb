{
  "nbformat": 4,
  "nbformat_minor": 0,
  "metadata": {
    "colab": {
      "provenance": [],
      "authorship_tag": "ABX9TyOmOXzP1jT2Fi2A3PW260K0",
      "include_colab_link": true
    },
    "kernelspec": {
      "name": "python3",
      "display_name": "Python 3"
    },
    "language_info": {
      "name": "python"
    }
  },
  "cells": [
    {
      "cell_type": "markdown",
      "metadata": {
        "id": "view-in-github",
        "colab_type": "text"
      },
      "source": [
        "<a href=\"https://colab.research.google.com/github/MuhammmadDwiki/PostTest-Kecerdasan-Buatan/blob/main/2209106048_Muhammad_Dwiki_Surya_Saputra_POSTEST4.ipynb\" target=\"_parent\"><img src=\"https://colab.research.google.com/assets/colab-badge.svg\" alt=\"Open In Colab\"/></a>"
      ]
    },
    {
      "cell_type": "code",
      "execution_count": null,
      "metadata": {
        "id": "ewQWciGBcopj"
      },
      "outputs": [],
      "source": []
    }
  ]
}